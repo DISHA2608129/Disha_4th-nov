{
  "nbformat": 4,
  "nbformat_minor": 0,
  "metadata": {
    "colab": {
      "provenance": []
    },
    "kernelspec": {
      "name": "python3",
      "display_name": "Python 3"
    },
    "language_info": {
      "name": "python"
    }
  },
  "cells": [
    {
      "cell_type": "markdown",
      "source": [
        "Theoretical Questions:"
      ],
      "metadata": {
        "id": "vhJumY2UwjmC"
      }
    },
    {
      "cell_type": "markdown",
      "source": [
        "Q 1. Explain the purpose and advantages of NumPy in scientific computing and data analysis. How does it enhance Python's capabilities for numerical operations?"
      ],
      "metadata": {
        "id": "6QaBP0JwwmSg"
      }
    },
    {
      "cell_type": "markdown",
      "source": [
        "A key Python library for scientific computing and data analysis, NumPy provides a robust array object that improves Python's ability to handle numerical data. Its main objective is to offer effective and adaptable tools for carrying out logical and mathematical operations on huge datasets. Because NumPy arrays store elements in contiguous memory locations, they minimize overhead and offer vectorized operations—processing complete arrays at once rather than one element at a time—which allow for faster computations than ordinary Python lists.\n",
        "\n",
        "Among NumPy's benefits are its built-in functions for random number generation, array manipulation, and linear algebra, which make it appropriate for managing multidimensional data, carrying out intricate computations, and developing unique algorithms. NumPy's usefulness in data science, statistics, and machine learning is further increased by its smooth integration with other scientific libraries like SciPy and Pandas. NumPy is essential for advanced numerical analysis and large-scale data processing in Python since it maximizes performance and memory usage."
      ],
      "metadata": {
        "id": "SNVD-fJ0w05x"
      }
    },
    {
      "cell_type": "markdown",
      "source": [
        "Q 2. Compare and contrast np.mean() and np.average() functions in NumPy. When would you use one over the other?"
      ],
      "metadata": {
        "id": "S1q49sHZxEbZ"
      }
    },
    {
      "cell_type": "markdown",
      "source": [
        "The arithmetic mean of an array's elements is determined using NumPy's np.mean(), which by default treats each element equally. When a basic average is needed, it's easy to use and perfect. On the other hand, if weights are supplied, np.average() can calculate a weighted average, enabling particular components to have a greater impact on the outcome. np.average() functions similarly to np.mean() in the absence of weights.\n",
        "\n",
        "For unweighted data or when weights are irrelevant, use np.mean(); it's quicker and easier. When several components should have differing degrees of effect, as in statistical or financial computations including weighted data, use np.average()."
      ],
      "metadata": {
        "id": "G6O3PI_9xQkd"
      }
    },
    {
      "cell_type": "markdown",
      "source": [
        "Q 3. Describe the methods for reversing a NumPy array along different axes. Provide examples for 1D and 2D arrays."
      ],
      "metadata": {
        "id": "wE_g0jDPxSRg"
      }
    },
    {
      "cell_type": "markdown",
      "source": [
        "In NumPy, arrays can reversed along various axes using slicing or specific functions like np.flip.\n",
        "\n",
        "For a 1D array, reversing is straightforward using slicing [::-1]."
      ],
      "metadata": {
        "id": "zCf2S2WRxU-m"
      }
    },
    {
      "cell_type": "code",
      "source": [
        "import numpy as np\n",
        "arr = np.array([7, 8, 9, 10])\n",
        "reversed_arr = arr[::-1]  # Output: [10, 9, 8, 7]"
      ],
      "metadata": {
        "id": "tqsadj1Dxale"
      },
      "execution_count": 1,
      "outputs": []
    },
    {
      "cell_type": "markdown",
      "source": [
        "For a 2D array, reversing along the rows or columns can be done with slicing or np.flip:"
      ],
      "metadata": {
        "id": "louAHntxxxN5"
      }
    },
    {
      "cell_type": "code",
      "source": [
        "arr2D = np.array([[1, 2], [3, 4]])\n",
        "reversed_rows = arr2D[::-1, :]  # Output: [[3, 4], [1, 2]]"
      ],
      "metadata": {
        "id": "KDetYTxSxz5F"
      },
      "execution_count": null,
      "outputs": []
    },
    {
      "cell_type": "markdown",
      "source": [
        "Q 4. How can you determine the data type of elements in a NumPy array? Discuss the importance of data types in memory management and performance."
      ],
      "metadata": {
        "id": "pxJjrf8cx3Mu"
      }
    },
    {
      "cell_type": "markdown",
      "source": [
        "Using the.dtype attribute, which exposes the array's data type, one can ascertain the data type of each element in a NumPy array. Since data types specify how much memory each element takes up, they are essential to memory management and efficiency. For example, int64 needs eight bytes, but int32 uses four. By selecting the smallest appropriate data type, memory use is reduced, enabling larger arrays to fit into memory and accelerating computation. Additionally, since NumPy's vectorized operations are tailored for particular data types, matching data types with operations improves efficiency by accelerating execution."
      ],
      "metadata": {
        "id": "W0XnPiAxyING"
      }
    },
    {
      "cell_type": "markdown",
      "source": [
        "Q 5. Define ndarrays in NumPy and explain their key features. How do they differ from standard Python lists?"
      ],
      "metadata": {
        "id": "YJTALJKPyN0a"
      }
    },
    {
      "cell_type": "markdown",
      "source": [
        "A strong multidimensional container for homogeneous data in NumPy is an ndarray (n-dimensional array), where each member must be of the same data type. Ndarrays enable effective element-wise operations without the need for explicit loops by supporting broadcasting and sophisticated mathematical calculations. Contiguous memory allocation, vectorized operations, and a wealth of data manipulation, reshaping, and slicing capabilities are important elements that contribute to fast speed. In contrast to Python lists, ndarrays are optimized for numerical applications, allow for faster computations, and use less memory. Although lists come in a variety of types, they don't have these efficient operations, which makes them less appropriate for scientific computing and large-scale numerical processing.A strong multidimensional container for homogeneous data in NumPy is an ndarray (n-dimensional array), where each member must be of the same data type. Ndarrays enable effective element-wise operations without the need for explicit loops by supporting broadcasting and sophisticated mathematical calculations. Contiguous memory allocation, vectorized operations, and a wealth of data manipulation, reshaping, and slicing capabilities are important elements that contribute to fast speed. In contrast to Python lists, ndarrays are optimized for numerical applications, allow for faster computations, and use less memory. Although lists come in a variety of types, they don't have these efficient operations, which makes them less appropriate for scientific computing and large-scale numerical processing."
      ],
      "metadata": {
        "id": "ig4mDgq3yPUf"
      }
    },
    {
      "cell_type": "markdown",
      "source": [
        "Q 6. Analyze the performance benefits of NumPy arrays over Python lists for large-scale numerical operations."
      ],
      "metadata": {
        "id": "GdjbrmbVx0r2"
      }
    },
    {
      "cell_type": "markdown",
      "source": [
        "NumPy arrays' effective memory management and optimized, compiled C code provide notable speed benefits over Python lists for large-scale numerical operations. NumPy arrays, as opposed to lists, provide for quick data access and manipulation by storing elements of the same data type in contiguous memory. Because of this homogeneity, vectorized operations—in which element-wise computations are carried out without the need for Python loops—are possible, which lowers overhead and increases speed. Additionally, NumPy makes use of low-level optimizations like parallel processing and SIMD (Single Instruction, Multiple Data). Significant performance gains are the outcome of these qualities, particularly for high-dimensional data and large-scale calculations that are typical in numerical and scientific applications."
      ],
      "metadata": {
        "id": "tNxamFp5ynT-"
      }
    },
    {
      "cell_type": "markdown",
      "source": [
        "Q 7. Compare vstack() and hstack() functions in NumPy. Provide examples demonstrating their usage and output."
      ],
      "metadata": {
        "id": "wDNVcEfazcpp"
      }
    },
    {
      "cell_type": "markdown",
      "source": [
        "In NumPy, hstack() and vstack() are used to stack arrays vertically and horizontally, respectively. vstack() combines arrays row-wise, increasing the number of rows, while hstack() stacks them column-wise, increasing the number of columns."
      ],
      "metadata": {
        "id": "SWapAgP8zfOM"
      }
    },
    {
      "cell_type": "code",
      "source": [
        "import numpy as np\n",
        "\n",
        "a = np.array([1, 2, 3])\n",
        "b = np.array([4, 5, 6])\n",
        "\n",
        "# Vertical stack\n",
        "v = np.vstack((a, b))  # Output: [[1, 2, 3], [4, 5, 6]]\n",
        "\n",
        "# Horizontal stack\n",
        "h = np.hstack((a, b))  # Output: [1, 2, 3, 4, 5, 6]"
      ],
      "metadata": {
        "id": "zlKb1HTzzxlG"
      },
      "execution_count": null,
      "outputs": []
    },
    {
      "cell_type": "markdown",
      "source": [
        "Q 8. Explain the differences between fliplr() and flipud() methods in NumPy, including their effects on various array dimensions."
      ],
      "metadata": {
        "id": "H_QAWl6xz0Ty"
      }
    },
    {
      "cell_type": "markdown",
      "source": [
        "The array flipping functions fliplr() and flipud() in NumPy behave differently. fliplr() reverses the order of elements along the last axis (columns) of a 2D array by flipping it horizontally. For instance, the first column of an array becomes its last. An array with at least two dimensions is needed for this function.\n",
        "\n",
        "Flipud(), on the other hand, reverses elements along the first axis (rows) to flip an array vertically, making the top row the bottom. Flipud(), in contrast to fliplr(), can be applied to any array that has one or more dimensions. Both approaches reorder elements while preserving the array's form."
      ],
      "metadata": {
        "id": "chox5ntRz7IW"
      }
    },
    {
      "cell_type": "markdown",
      "source": [
        "\n",
        "Q 9. Discuss the functionality of the array_split() method in NumPy. How does it handle uneven splits?"
      ],
      "metadata": {
        "id": "WgySbs0Pz9_2"
      }
    },
    {
      "cell_type": "markdown",
      "source": [
        "An array can be divided into designated subarrays using NumPy's array_split() method. Array_split() deals with situations where the array cannot be divided equally, as contrast to split(), which requires splits of the same size. It distributes any residual elements among the original subarrays and generates subarrays of about comparable size. For instance, array_split() will yield subarrays of lengths 4, 3, and 3, respectively, instead of failing if an array of length 10 is divided into three parts. This allows for flexible partitioning without error, which is very helpful when working with data that might not divide equally."
      ],
      "metadata": {
        "id": "30-pUlMR0GrN"
      }
    },
    {
      "cell_type": "markdown",
      "source": [
        "Q 10. Explain the concepts of vectorization and broadcasting in NumPy. How do they contribute to efficient array operations?"
      ],
      "metadata": {
        "id": "rdqODD560JJm"
      }
    },
    {
      "cell_type": "markdown",
      "source": [
        "Vectorization in NumPy leverages optimized C code for quicker execution by enabling operations to be applied to whole arrays without the need for explicit loops. This produces short, effective code by avoiding Python's loop overhead. By \"stretching\" smaller arrays to match larger ones without making duplicate copies, broadcasting makes it possible to perform arithmetic operations on arrays of various shapes. By utilizing underlying optimizations and memory management, vectorization and broadcasting work together to increase computational efficiency, which is crucial for scientific computing and large-scale data processing. These methods enable NumPy to swiftly and efficiently execute intricate array operations with little code."
      ],
      "metadata": {
        "id": "EeFnd5wj0VSI"
      }
    },
    {
      "cell_type": "markdown",
      "source": [
        "Practical Questions:"
      ],
      "metadata": {
        "id": "LhxYM7ix0YMP"
      }
    },
    {
      "cell_type": "markdown",
      "source": [
        "Q 1. Create a 3x3 NumPy array with random integers between 1 and 100. Then, interchange its rows and columns."
      ],
      "metadata": {
        "id": "KrKzaGyU0rkP"
      }
    },
    {
      "cell_type": "code",
      "source": [
        "import numpy as np\n",
        "\n",
        "# Create a 3x3 array with random integers between 1 and 100\n",
        "array = np.random.randint(1, 101, size=(3, 3))\n",
        "print(\"Original Array:\\n\", array)\n",
        "\n",
        "# Interchange rows and columns (transpose the array)\n",
        "transposed_array = array.T\n",
        "print(\"Transposed Array:\\n\", transposed_array)"
      ],
      "metadata": {
        "colab": {
          "base_uri": "https://localhost:8080/"
        },
        "id": "_BxF7Xmx0vdv",
        "outputId": "a0d8855e-7e01-4f48-c5f5-851f54883786"
      },
      "execution_count": 11,
      "outputs": [
        {
          "output_type": "stream",
          "name": "stdout",
          "text": [
            "Original Array:\n",
            " [[ 7 99 71]\n",
            " [ 7 74 18]\n",
            " [81 30 28]]\n",
            "Transposed Array:\n",
            " [[ 7  7 81]\n",
            " [99 74 30]\n",
            " [71 18 28]]\n"
          ]
        }
      ]
    },
    {
      "cell_type": "markdown",
      "source": [
        "Q 2. Generate a 1D NumPy array with 10 elements. Reshape it into a 2x5 array, then into a 5x2 array."
      ],
      "metadata": {
        "id": "liSGgW_t02FQ"
      }
    },
    {
      "cell_type": "code",
      "source": [
        "import numpy as np\n",
        "\n",
        "# Generate a 1D array with 10 elements\n",
        "array_1d = np.arange(10)\n",
        "\n",
        "# Reshape the 1D array into a 2x5 array\n",
        "array_2x5 = array_1d.reshape(2, 5)\n",
        "\n",
        "# Reshape the 1D array into a 5x2 array\n",
        "array_5x2 = array_1d.reshape(5, 2)\n",
        "\n",
        "print(\"1D Array:\", array_1d)\n",
        "print(\"2x5 Array:\\n\", array_2x5)\n",
        "print(\"5x2 Array:\\n\", array_5x2)"
      ],
      "metadata": {
        "colab": {
          "base_uri": "https://localhost:8080/"
        },
        "id": "Z-uoDQDm04rt",
        "outputId": "0d8a7e80-7255-435a-b316-7b74f2db594d"
      },
      "execution_count": 12,
      "outputs": [
        {
          "output_type": "stream",
          "name": "stdout",
          "text": [
            "1D Array: [0 1 2 3 4 5 6 7 8 9]\n",
            "2x5 Array:\n",
            " [[0 1 2 3 4]\n",
            " [5 6 7 8 9]]\n",
            "5x2 Array:\n",
            " [[0 1]\n",
            " [2 3]\n",
            " [4 5]\n",
            " [6 7]\n",
            " [8 9]]\n"
          ]
        }
      ]
    },
    {
      "cell_type": "markdown",
      "source": [
        "Q 3. Create a 4x4 NumPy array with random float values. Add a border of zeros around it, resulting in a 6x6 array."
      ],
      "metadata": {
        "id": "zvWYlen21thU"
      }
    },
    {
      "cell_type": "code",
      "source": [
        "import numpy as np\n",
        "\n",
        "# Create a 4x4 array with random floats\n",
        "array_4x4 = np.random.rand(4, 4)\n",
        "\n",
        "# Add a border of zeros\n",
        "array_6x6 = np.pad(array_4x4, pad_width=1, mode='constant', constant_values=0)\n",
        "\n",
        "print(array_6x6)\n"
      ],
      "metadata": {
        "colab": {
          "base_uri": "https://localhost:8080/"
        },
        "id": "LxZ4kfB41wLL",
        "outputId": "de0e32b4-594e-4acd-89c4-5e75b2c19637"
      },
      "execution_count": 13,
      "outputs": [
        {
          "output_type": "stream",
          "name": "stdout",
          "text": [
            "[[0.         0.         0.         0.         0.         0.        ]\n",
            " [0.         0.87934711 0.39369    0.89956449 0.99558456 0.        ]\n",
            " [0.         0.41042281 0.28818933 0.09974069 0.11962285 0.        ]\n",
            " [0.         0.43125873 0.08990204 0.75868224 0.32830377 0.        ]\n",
            " [0.         0.01607701 0.26902756 0.315181   0.12180061 0.        ]\n",
            " [0.         0.         0.         0.         0.         0.        ]]\n"
          ]
        }
      ]
    },
    {
      "cell_type": "markdown",
      "source": [
        "Q 4. Using NumPy, create an array of integers from 10 to 60 with a step of 5.\n",
        "\n",
        "---\n",
        "\n"
      ],
      "metadata": {
        "id": "DFxlOjVb2GJR"
      }
    },
    {
      "cell_type": "code",
      "source": [
        "import numpy as np\n",
        "\n",
        "# Create an array of integers from 10 to 60 with a step of 5\n",
        "array = np.arange(10, 62, 5)\n",
        "\n",
        "# Display the array\n",
        "print(array)\n"
      ],
      "metadata": {
        "colab": {
          "base_uri": "https://localhost:8080/"
        },
        "id": "6e14v5s42jsv",
        "outputId": "732d4655-be7f-4644-d757-35820bc494cb"
      },
      "execution_count": 14,
      "outputs": [
        {
          "output_type": "stream",
          "name": "stdout",
          "text": [
            "[10 15 20 25 30 35 40 45 50 55 60]\n"
          ]
        }
      ]
    },
    {
      "cell_type": "markdown",
      "source": [
        "Q 5. Create a NumPy array of strings ['python', 'numpy', 'pandas']. Apply different case transformations (uppercase, lowercase, title case, etc.) to each element."
      ],
      "metadata": {
        "id": "TWNocKmi2ogx"
      }
    },
    {
      "cell_type": "code",
      "source": [
        "import numpy as np\n",
        "\n",
        "# Create a NumPy array of strings\n",
        "arr = np.array(['python', 'numpy', 'pandas'])\n",
        "\n",
        "# Apply different case transformations\n",
        "# Use np.char.upper() to apply the upper() method to each element of the array\n",
        "uppercase = np.char.upper(arr)     # Uppercase\n",
        "lowercase = np.char.lower(arr)     # Lowercase\n",
        "titlecase = np.char.title(arr)     # Title case\n",
        "capitalize = np.char.capitalize(arr)  # Capitalize\n",
        "\n",
        "# Display the results\n",
        "print(\"Uppercase:\", uppercase)\n",
        "print(\"Lowercase:\", lowercase)\n",
        "print(\"Title Case:\", titlecase)\n",
        "print(\"Capitalize:\", capitalize)"
      ],
      "metadata": {
        "colab": {
          "base_uri": "https://localhost:8080/"
        },
        "id": "OC7LRk212q6T",
        "outputId": "9605243b-4118-4429-cfe4-cb251aecac23"
      },
      "execution_count": 15,
      "outputs": [
        {
          "output_type": "stream",
          "name": "stdout",
          "text": [
            "Uppercase: ['PYTHON' 'NUMPY' 'PANDAS']\n",
            "Lowercase: ['python' 'numpy' 'pandas']\n",
            "Title Case: ['Python' 'Numpy' 'Pandas']\n",
            "Capitalize: ['Python' 'Numpy' 'Pandas']\n"
          ]
        }
      ]
    },
    {
      "cell_type": "markdown",
      "source": [
        "\n",
        "Q 6. Generate a NumPy array of words. Insert a space between each character of every word in the array."
      ],
      "metadata": {
        "id": "_Duhrn852xM6"
      }
    },
    {
      "cell_type": "code",
      "source": [
        "import numpy as np\n",
        "\n",
        "# Create a NumPy array of words\n",
        "words = np.array(['man', 'beautiful', 'red', 'rose'])\n",
        "\n",
        "# Insert a space between each character of every word\n",
        "spaced_words = np.array([' '.join(word) for word in words])\n",
        "\n",
        "print(spaced_words)\n"
      ],
      "metadata": {
        "colab": {
          "base_uri": "https://localhost:8080/"
        },
        "id": "3rjE9pSp2yB2",
        "outputId": "3196483e-2d6d-4bca-bb21-d953475d5217"
      },
      "execution_count": 16,
      "outputs": [
        {
          "output_type": "stream",
          "name": "stdout",
          "text": [
            "['m a n' 'b e a u t i f u l' 'r e d' 'r o s e']\n"
          ]
        }
      ]
    },
    {
      "cell_type": "markdown",
      "source": [
        "Q 7. Create two 2D NumPy arrays and perform element-wise addition, subtraction, multiplication, and division."
      ],
      "metadata": {
        "id": "pJrn7hku27cq"
      }
    },
    {
      "cell_type": "code",
      "source": [
        "import numpy as np\n",
        "\n",
        "# Create two 2D NumPy arrays\n",
        "array1 = np.array([[4, 6, 9], [4, 5, 6]])\n",
        "array2 = np.array([[7, 8, 9], [17,  18, 20]])\n",
        "\n",
        "# Element-wise operations\n",
        "addition = array1 + array2           # Addition\n",
        "subtraction = array1 - array2        # Subtraction\n",
        "multiplication = array1 * array2     # Multiplication\n",
        "division = array1 / array2           # Division\n",
        "\n",
        "print(\"Addition:\\n\", addition)\n",
        "print(\"Subtraction:\\n\", subtraction)\n",
        "print(\"Multiplication:\\n\", multiplication)\n",
        "print(\"Division:\\n\", division)"
      ],
      "metadata": {
        "colab": {
          "base_uri": "https://localhost:8080/"
        },
        "id": "7sV60wD72-cb",
        "outputId": "c2a7dfd9-a045-4fd3-c79a-8253ffc1489d"
      },
      "execution_count": 18,
      "outputs": [
        {
          "output_type": "stream",
          "name": "stdout",
          "text": [
            "Addition:\n",
            " [[11 14 18]\n",
            " [21 23 26]]\n",
            "Subtraction:\n",
            " [[ -3  -2   0]\n",
            " [-13 -13 -14]]\n",
            "Multiplication:\n",
            " [[ 28  48  81]\n",
            " [ 68  90 120]]\n",
            "Division:\n",
            " [[0.57142857 0.75       1.        ]\n",
            " [0.23529412 0.27777778 0.3       ]]\n"
          ]
        }
      ]
    },
    {
      "cell_type": "markdown",
      "source": [
        "Q 8. Use NumPy to create a 5x5 identity matrix, then extract its diagonal elements."
      ],
      "metadata": {
        "id": "7epemERw3MPM"
      }
    },
    {
      "cell_type": "code",
      "source": [
        "import numpy as np\n",
        "\n",
        "# Create a 5x5 identity matrix\n",
        "identity_matrix = np.eye(5)\n",
        "\n",
        "# Extract the diagonal elements\n",
        "diagonal_elements = identity_matrix.diagonal()\n",
        "\n",
        "print(\"Identity Matrix:\\n\", identity_matrix)\n",
        "print(\"Diagonal Elements:\", diagonal_elements)\n"
      ],
      "metadata": {
        "colab": {
          "base_uri": "https://localhost:8080/"
        },
        "id": "ZDVx_iBu3SBK",
        "outputId": "5b85bb13-43af-4427-bf97-23d1c5136d6c"
      },
      "execution_count": 20,
      "outputs": [
        {
          "output_type": "stream",
          "name": "stdout",
          "text": [
            "Identity Matrix:\n",
            " [[1. 0. 0. 0. 0.]\n",
            " [0. 1. 0. 0. 0.]\n",
            " [0. 0. 1. 0. 0.]\n",
            " [0. 0. 0. 1. 0.]\n",
            " [0. 0. 0. 0. 1.]]\n",
            "Diagonal Elements: [1. 1. 1. 1. 1.]\n"
          ]
        }
      ]
    },
    {
      "cell_type": "markdown",
      "source": [
        "Q 9. Generate a NumPy array of 100 random integers between 0 and 1000. Find and display all prime numbers in this array."
      ],
      "metadata": {
        "id": "B_VjT1EV3bSr"
      }
    },
    {
      "cell_type": "code",
      "source": [
        "import numpy as np\n",
        "\n",
        "# Generate an array of 100 random integers\n",
        "random_integers = np.random.randint(0, 1001, 100)\n",
        "\n",
        "# Function to check for prime numbers\n",
        "def is_prime(n):\n",
        "    if n <= 1:\n",
        "        return False\n",
        "    for i in range(2, int(n**0.5) + 1):\n",
        "        if n % i == 0:\n",
        "            return False\n",
        "    return True\n",
        "\n",
        "# Filter and display prime numbers\n",
        "prime_numbers = [num for num in random_integers if is_prime(num)]\n",
        "print(prime_numbers)"
      ],
      "metadata": {
        "colab": {
          "base_uri": "https://localhost:8080/"
        },
        "id": "bPQPvbmH3ei3",
        "outputId": "dc27ecb0-1b72-4154-b335-af22a34a1a62"
      },
      "execution_count": 21,
      "outputs": [
        {
          "output_type": "stream",
          "name": "stdout",
          "text": [
            "[557, 787, 977, 499, 641, 751, 2, 967, 367, 733, 3, 89, 5, 263, 569, 883, 43, 59, 47, 457, 241, 71]\n"
          ]
        }
      ]
    },
    {
      "cell_type": "markdown",
      "source": [
        "Q 10. Create a NumPy array representing daily temperatures for a month. Calculate and display the weekly averages."
      ],
      "metadata": {
        "id": "gHUmFqW03ijh"
      }
    },
    {
      "cell_type": "code",
      "source": [
        "import numpy as np\n",
        "\n",
        "# Create an array of daily temperatures for 30 days\n",
        "temperatures = np.random.randint(0, 35, size=30)\n",
        "\n",
        "# Reshape the array into a shape compatible with the number of elements\n",
        "# For example, reshape into 5 weeks of 6 days each (5 * 6 = 30)\n",
        "weekly_temperatures = temperatures.reshape(5, 6)\n",
        "\n",
        "# Calculate the average temperature for each week\n",
        "weekly_averages = weekly_temperatures.mean(axis=1)\n",
        "\n",
        "print(\"Daily Temperatures:\", temperatures)\n",
        "print(\"Weekly Averages:\", weekly_averages)"
      ],
      "metadata": {
        "colab": {
          "base_uri": "https://localhost:8080/"
        },
        "id": "vEhZ3WFD3lXs",
        "outputId": "fed282b3-7650-4b9e-af60-1f527872e65d"
      },
      "execution_count": 22,
      "outputs": [
        {
          "output_type": "stream",
          "name": "stdout",
          "text": [
            "Daily Temperatures: [28 33 32 24 10  5 14 10 26 34 13  8  0  7 12 10  8 27 30 33  7  2 21 16\n",
            "  0  8  3 25  6 34]\n",
            "Weekly Averages: [22.         17.5        10.66666667 18.16666667 12.66666667]\n"
          ]
        }
      ]
    }
  ]
}